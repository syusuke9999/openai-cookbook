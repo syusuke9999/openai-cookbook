{
 "cells": [
  {
   "cell_type": "markdown",
   "id": "63785634",
   "metadata": {},
   "source": [
    "# ChatGPTとあなたのデータを使って製品をパワーアップさせる\n",
    "\n",
    "本書は、ChatGPT APIと自分のデータを使って、Q&Aやチャットボットのアプリを構築する方法を紹介するウォークスルーです。\n",
    "\n",
    "このようなセクションにレイアウトされている：\n",
    "- **セットアップ:**\n",
    "    - 変数の初期化、データのソース化\n",
    "- **基礎を作る:**\n",
    "    - ベクターデータベースを設定し、ベクターとデータを受け付けるようにする。\n",
    "    - データセットを読み込み、埋め込み用にデータを切り分け、ベクターデータベースに保存する。\n",
    "- **製品化する:**\n",
    "    - ユーザーがクエリを提示すると、最も関連性の高い項目を返す検索ステップの追加\n",
    "    - GPT-3を使って検索結果をまとめる。\n",
    "    - Streamlitでこの基本的なQ&Aアプリを試してみる\n",
    "- **モートを作る：**\n",
    "    - 文脈を管理し、ボットと連携するアシスタントクラスを作成する\n",
    "    - セマンティック検索のコンテキストを用いて、チャットボットを使って質問に答える\n",
    "    - Streamlitでこの基本的なChatbotアプリをテストする\n",
    "    \n",
    "完了すると、OpenAI API とベクトル データベースを使用して、独自の本番チャットボットまたは Q&A アプリケーションを作成するための構成要素が得られます。\n",
    "\n",
    "このノートブックは、元々[これらのスライド](https://drive.google.com/file/d/1dB-RQhZC_Q1iAsHkNNdkqtxxXqYODFYy/view?usp=share_link)とともに発表されました。このスライドは、この道のりに視覚的な背景を提供しています。"
   ]
  },
  {
   "cell_type": "code",
   "execution_count": 1,
   "id": "59f08ea7",
   "metadata": {},
   "outputs": [],
   "source": [
    "%load_ext autoreload\n",
    "%autoreload 2"
   ]
  },
  {
   "cell_type": "markdown",
   "id": "13649895",
   "metadata": {},
   "source": [
    "## セットアップ\n",
    "\n",
    "まず、ライブラリと環境変数を設定します。"
   ]
  },
  {
   "cell_type": "code",
   "execution_count": 2,
   "id": "7590fbfc",
   "metadata": {},
   "outputs": [],
   "source": [
    "import openai\n",
    "import os\n",
    "import pandas as pd\n",
    "import tiktoken\n",
    "import textract\n",
    "\n",
    "from database import get_redis_connection\n",
    "openai.api_key = \"-----------------------------\"\n",
    "\n",
    "# デフォルトのモデルとチャンキングの大きさを設定します。\n",
    "from config import COMPLETIONS_MODEL, CHAT_MODEL\n",
    "\n",
    "# 閉じられていないSSLソケットの警告を無視する - これらのエラーが発生した場合に備えてオプションとします。\n",
    "import warnings\n",
    "\n",
    "warnings.filterwarnings(action=\"ignore\", message=\"unclosed\", category=ImportWarning)\n",
    "warnings.filterwarnings(\"ignore\", category=DeprecationWarning) "
   ]
  },
  {
   "cell_type": "code",
   "execution_count": 3,
   "id": "760efc1e",
   "metadata": {},
   "outputs": [],
   "source": [
    "pd.set_option('display.max_colwidth', 0)"
   ]
  },
  {
   "cell_type": "code",
   "execution_count": 4,
   "id": "3f90817d",
   "metadata": {},
   "outputs": [
    {
     "data": {
      "text/plain": [
       "[\"FIA Practice Directions - Competitor's Staff Registration System.pdf\",\n",
       " 'fia_2022_formula_1_sporting_regulations_-_issue_9_-_2022-10-19_0.pdf',\n",
       " 'fia_2023_formula_1_technical_regulations_-_issue_4_-_2022-12-07.pdf',\n",
       " 'fia_f1_power_unit_financial_regulations_issue_1_-_2022-08-16.pdf',\n",
       " 'fia_formula_1_financial_regulations_iss.13.pdf']"
      ]
     },
     "execution_count": 4,
     "metadata": {},
     "output_type": "execute_result"
    }
   ],
   "source": [
    "data_dir = os.path.join(os.curdir,'data')\n",
    "pdf_files = sorted([x for x in os.listdir(data_dir) if 'DS_Store' not in x])\n",
    "pdf_files"
   ]
  },
  {
   "cell_type": "markdown",
   "id": "5dc4018c",
   "metadata": {},
   "source": [
    "## 土台を作る"
   ]
  },
  {
   "cell_type": "markdown",
   "id": "632b82ed",
   "metadata": {},
   "source": [
    "### ストレージ\n",
    "\n",
    "ここでは、ドキュメントの内容とベクトルの埋め込みの両方のデータベースとして、Redisを使用することにします。セマンティック検索を可能にするモジュールであるRedisearchを利用するためには、Redis Stackが必要です。詳細については、[docs for Redis Stack](https://redis.io/docs/stack/get-started/install/docker/) に記載されています。\n",
    "\n",
    "これをローカルで設定するには、Dockerをインストールして、以下のコマンドを実行する必要があります： ``docker run -d --name redis-stack -p 6379:6379 -p 8001:8001 redis/redis-stack:latest``.\n",
    "\n",
    "ここで使われているコードは、[このレポ](https://github.com/RedisAI/vecsim-demo)を大いに参考にしています。\n",
    "\n",
    "Redis StackのDockerインスタンスをセットアップしたら、以下の手順でRedisへの接続を開始し、セマンティック検索用のHNSW（Hierarchical Navigable Small World）インデックスを作成することができます。"
   ]
  },
  {
   "cell_type": "code",
   "execution_count": 5,
   "id": "17d6b886",
   "metadata": {},
   "outputs": [],
   "source": [
    "# Setup Redis\n",
    "from redis.commands.search.field import (\n",
    "    TextField,\n",
    "    VectorField,\n",
    "    NumericField\n",
    ")\n",
    "from redis.commands.search.indexDefinition import (\n",
    "    IndexDefinition,\n",
    "    IndexType\n",
    ")\n",
    "\n",
    "redis_client = get_redis_connection()"
   ]
  },
  {
   "cell_type": "code",
   "execution_count": 6,
   "id": "4f3d3e6b",
   "metadata": {},
   "outputs": [],
   "source": [
    "# 定数\n",
    "VECTOR_DIM = 1536 #len(data['title_vector'][0]) # ベクトルの長さ\n",
    "#VECTOR_NUMBER = len(data)                 # 初期状態のベクトル数\n",
    "PREFIX = \"sportsdoc\"                            # 文書キーの接頭辞\n",
    "DISTANCE_METRIC = \"COSINE\"                # ベクトルの距離指標（例：COSINE、IP、L2)"
   ]
  },
  {
   "cell_type": "code",
   "execution_count": 7,
   "id": "d3c352ca",
   "metadata": {},
   "outputs": [],
   "source": [
    "# 検索インデックスの作成\n",
    "\n",
    "# Index\n",
    "INDEX_NAME = \"f1-index\"           # 検索インデックス名\n",
    "VECTOR_FIELD_NAME = 'content_vector'\n",
    "\n",
    "# データセット内にある各カラムに対してRediSearchフィールドを定義する。\n",
    "# ここで、キャプチャしたいメタデータを追加してください\n",
    "filename = TextField(\"filename\")\n",
    "text_chunk = TextField(\"text_chunk\")\n",
    "file_chunk_index = NumericField(\"file_chunk_index\")\n",
    "\n",
    "# HNSWインデックスを使用するRediSearchベクトルフィールドを定義する。\n",
    "\n",
    "text_embedding = VectorField(VECTOR_FIELD_NAME,\n",
    "    \"HNSW\", {\n",
    "        \"TYPE\": \"FLOAT32\",\n",
    "        \"DIM\": VECTOR_DIM,\n",
    "        \"DISTANCE_METRIC\": DISTANCE_METRIC\n",
    "    }\n",
    ")\n",
    "# インデックスとして作成するリストに、すべてのフィールドオブジェクトを追加します\n",
    "fields = [filename,text_chunk,file_chunk_index,text_embedding]"
   ]
  },
  {
   "cell_type": "code",
   "execution_count": 8,
   "id": "a6c78b7e",
   "metadata": {},
   "outputs": [
    {
     "data": {
      "text/plain": [
       "True"
      ]
     },
     "execution_count": 8,
     "metadata": {},
     "output_type": "execute_result"
    }
   ],
   "source": [
    "redis_client.ping()"
   ]
  },
  {
   "cell_type": "code",
   "execution_count": 9,
   "id": "cf3ad41f",
   "metadata": {},
   "outputs": [
    {
     "name": "stdout",
     "output_type": "stream",
     "text": [
      "Index already exists\n"
     ]
    }
   ],
   "source": [
    "# インデックスが既に存在する場合、それを削除するオプションステップ\n",
    "#redis_client.ft(INDEX_NAME).dropindex()\n",
    "\n",
    "# インデックスが存在するか確認する\n",
    "try:\n",
    "    redis_client.ft(INDEX_NAME).info()\n",
    "    print(\"Index already exists\")\n",
    "except Exception as e:\n",
    "    print(e)\n",
    "    # RediSearchインデックスの作成\n",
    "    print('Not there yet. Creating')\n",
    "    redis_client.ft(INDEX_NAME).create_index(\n",
    "        fields = fields,\n",
    "        definition = IndexDefinition(prefix=[PREFIX], index_type=IndexType.HASH)\n",
    "    )"
   ]
  },
  {
   "cell_type": "markdown",
   "id": "f74ebeb5",
   "metadata": {},
   "source": [
    "### 消化・吸収\n",
    "\n",
    "PDFを読み込んで、次のようにします。\n",
    "- トークナイザーを起動する\n",
    "- 処理パイプラインを実行する：\n",
    "    - 各PDFからテキストを抽出する\n",
    "    - 塊に分割して埋め込みます\n",
    "    - Redisに保管する"
   ]
  },
  {
   "cell_type": "code",
   "execution_count": 10,
   "id": "ed23bf9d",
   "metadata": {},
   "outputs": [],
   "source": [
    "# transformers.pyファイルには、データのチャンク、埋め込み、読み込みを含む、すべての変換関数が含まれています。\n",
    "# 詳細については、このファイルを参照し、各関数を個別に操作してください。\n",
    "from transformers import handle_file_string"
   ]
  },
  {
   "cell_type": "code",
   "execution_count": 11,
   "id": "15d1ecfd",
   "metadata": {},
   "outputs": [
    {
     "name": "stdout",
     "output_type": "stream",
     "text": [
      ".\\data\\FIA Practice Directions - Competitor's Staff Registration System.pdf\n",
      ".\\data\\fia_2022_formula_1_sporting_regulations_-_issue_9_-_2022-10-19_0.pdf\n",
      ".\\data\\fia_2023_formula_1_technical_regulations_-_issue_4_-_2022-12-07.pdf\n",
      ".\\data\\fia_f1_power_unit_financial_regulations_issue_1_-_2022-08-16.pdf\n",
      ".\\data\\fia_formula_1_financial_regulations_iss.13.pdf\n",
      "CPU times: total: 43.3 s\n",
      "Wall time: 1min 3s\n"
     ]
    }
   ],
   "source": [
    "%%time\n",
    "# このステップにかかる時間は約5分です\n",
    "\n",
    "# トークナイザーの初期化\n",
    "tokenizer = tiktoken.get_encoding(\"cl100k_base\")\n",
    "\n",
    "# 各PDFファイルを処理し、埋め込みの準備をする。\n",
    "for pdf_file in pdf_files:\n",
    "    \n",
    "    pdf_path = os.path.join(data_dir,pdf_file)\n",
    "    print(pdf_path)\n",
    "    \n",
    "    # textractを使って各PDFから生のテキストを取り出す\n",
    "    text = textract.process(pdf_path, method='pdfminer')\n",
    "    \n",
    "    # 各ドキュメントをチャンクし、コンテンツを埋め込み、Redisに読み込ませる。\n",
    "    handle_file_string((pdf_file,text.decode(\"utf-8\")),tokenizer,redis_client,VECTOR_FIELD_NAME,INDEX_NAME)"
   ]
  },
  {
   "cell_type": "code",
   "execution_count": 12,
   "id": "22aff597",
   "metadata": {},
   "outputs": [
    {
     "data": {
      "text/plain": [
       "'660'"
      ]
     },
     "execution_count": 12,
     "metadata": {},
     "output_type": "execute_result"
    }
   ],
   "source": [
    "# 私たちのドキュメントが挿入されたことを確認する\n",
    "redis_client.ft(INDEX_NAME).info()['num_docs']"
   ]
  },
  {
   "cell_type": "markdown",
   "id": "6b12cb6e",
   "metadata": {},
   "source": [
    "## 商品化する\n",
    "\n",
    "これで、検索が意図したとおりに動くかどうか、以下の方法でテストできます：\n",
    "- Redisにあるデータをセマンティック検索で検索し、結果を確認する。\n",
    "- GPT-3に結果を渡してまとめるステップの追加"
   ]
  },
  {
   "cell_type": "code",
   "execution_count": 13,
   "id": "e921ac96",
   "metadata": {},
   "outputs": [],
   "source": [
    "from database import get_redis_results"
   ]
  },
  {
   "cell_type": "code",
   "execution_count": 14,
   "id": "cb9dfacf",
   "metadata": {},
   "outputs": [
    {
     "name": "stdout",
     "output_type": "stream",
     "text": [
      "CPU times: total: 0 ns\n",
      "Wall time: 798 ms\n"
     ]
    },
    {
     "data": {
      "text/html": [
       "<div>\n",
       "<style scoped>\n",
       "    .dataframe tbody tr th:only-of-type {\n",
       "        vertical-align: middle;\n",
       "    }\n",
       "\n",
       "    .dataframe tbody tr th {\n",
       "        vertical-align: top;\n",
       "    }\n",
       "\n",
       "    .dataframe thead th {\n",
       "        text-align: right;\n",
       "    }\n",
       "</style>\n",
       "<table border=\"1\" class=\"dataframe\">\n",
       "  <thead>\n",
       "    <tr style=\"text-align: right;\">\n",
       "      <th></th>\n",
       "      <th>id</th>\n",
       "      <th>result</th>\n",
       "      <th>certainty</th>\n",
       "    </tr>\n",
       "  </thead>\n",
       "  <tbody>\n",
       "    <tr>\n",
       "      <th>0</th>\n",
       "      <td>0</td>\n",
       "      <td>The IT will, therefore, be competent to establish the existence, or not, of a breach of the FIA   regulations and to impose any sanction upon the person and Competitor concerned (see the process   governed by the FIA Judicial and Disciplinary Rules).      The President of the FIA, in its capacity as prosecuting authority, will ask, in respect of every   disciplinary procedure:        -     -     for the imposition of a suspension upon Competitor’s Staff Certificate of Registration holders   who have contravened the FIA Code of Good Standing or the withdrawal of the Competitor’s   Staff Certificate of Registration (any withdrawal can only be imposed for the remaining period   of the current season of the FIA Formula One World Championship)  and      that these same people not be fined.        The person and/or Competitor sanctioned may bring an appeal before the ICA against the IT’s   decision.        *********        The FIA will inform the relevant Competitor of any proceedings instigated against any member of its   staff. It is the responsibility to the relevant Competitor to send the IT a written request to be heard, and   if granted, it shall be permitted to submit written observations. The FIA undertakes to support before   the IT and/or the ICA any request from the Competitor to intervene as a third party within the   framework of a disciplinary procedure.      The right to deprive any duly registered member of a Competitor’s staff of access to the Reserved   Areas at events forming part of the FIA Formula One World Championship is subject to the procedure   set forth in the FIA Judicial and Disciplinary Rules.      The Stewards during the course of an Event or otherwise will have no authority to suspend or   withdraw a Competitor’s Staff Certificate of Registration for any breach or alleged breach of the FIA   Code of Good Standing.</td>\n",
       "      <td>0.205652177334</td>\n",
       "    </tr>\n",
       "    <tr>\n",
       "      <th>1</th>\n",
       "      <td>1</td>\n",
       "      <td>The following sets out examples of the type of behaviours which might constitute an infringement of   the FIA Code of Good Standing (non-exhaustive list of examples) in relation to a person who is subject   to the Code of Good Standing:        -     -     -     -     giving instructions to a driver or other member of a Competitor’s staff with the intention or with   the likely result of causing an accident, collision or crash or a race to be stopped or   suspended    any action which is likely to endanger or materially compromise the safety of any driver, other   members of the Competitor’s staff, other participants in a race, Officials or any spectators or   other members of the public who attend an event    giving instructions to make any changes to a car in breach of any safety requirements or   regulations    giving instructions to tamper with or adversely affect the set-up or performance of the car of   any other Competitor      4 / 5                    \f",
       "FIA Legal Department   Practice Directions - Competitor’s Staff Registration System             17 March 2011     -     -     giving instructions to a driver or otherwise taking any action by which the result or course of a   race may be influenced or affected for the purpose of profiting or assisting someone to profit   through betting on the outcome of a race or any part of a race  or   being convicted of a criminal offence (other than a driving offence) which carries a maximum   prison sentence of five years.        VII.     AMENDMENTS TO THE COMPETITOR’S STAFF REGISTRATION SYSTEM        The FIA will not make any amendments with regard to the Competitor’s Staff Registration System,   either to the International Sporting Code or to the Practice Directions, prior consultation with the   Competitors entered in the FIA Formula One World Championship and adequate opportunity to   provide input on the proposed amendments.</td>\n",
       "      <td>0.206435859203</td>\n",
       "    </tr>\n",
       "  </tbody>\n",
       "</table>\n",
       "</div>"
      ],
      "text/plain": [
       "   id   \n",
       "0  0   \\\n",
       "1  1    \n",
       "\n",
       "                                                                                                                                                                                                                                                                                                                                                                                                                                                                                                                                                                                                                                                                                                                                                                                                                                                                                                                                                                                                                                                                                                                                                                                                                                                                                                                                                                                                                                                                                                                                                                                                                                                                                                                                                                                                                                                                                                                                                                                     result   \n",
       "0        The IT will, therefore, be competent to establish the existence, or not, of a breach of the FIA   regulations and to impose any sanction upon the person and Competitor concerned (see the process   governed by the FIA Judicial and Disciplinary Rules).      The President of the FIA, in its capacity as prosecuting authority, will ask, in respect of every   disciplinary procedure:        -     -     for the imposition of a suspension upon Competitor’s Staff Certificate of Registration holders   who have contravened the FIA Code of Good Standing or the withdrawal of the Competitor’s   Staff Certificate of Registration (any withdrawal can only be imposed for the remaining period   of the current season of the FIA Formula One World Championship)  and      that these same people not be fined.        The person and/or Competitor sanctioned may bring an appeal before the ICA against the IT’s   decision.        *********        The FIA will inform the relevant Competitor of any proceedings instigated against any member of its   staff. It is the responsibility to the relevant Competitor to send the IT a written request to be heard, and   if granted, it shall be permitted to submit written observations. The FIA undertakes to support before   the IT and/or the ICA any request from the Competitor to intervene as a third party within the   framework of a disciplinary procedure.      The right to deprive any duly registered member of a Competitor’s staff of access to the Reserved   Areas at events forming part of the FIA Formula One World Championship is subject to the procedure   set forth in the FIA Judicial and Disciplinary Rules.      The Stewards during the course of an Event or otherwise will have no authority to suspend or   withdraw a Competitor’s Staff Certificate of Registration for any breach or alleged breach of the FIA   Code of Good Standing.                                     \\\n",
       "1        The following sets out examples of the type of behaviours which might constitute an infringement of   the FIA Code of Good Standing (non-exhaustive list of examples) in relation to a person who is subject   to the Code of Good Standing:        -     -     -     -     giving instructions to a driver or other member of a Competitor’s staff with the intention or with   the likely result of causing an accident, collision or crash or a race to be stopped or   suspended    any action which is likely to endanger or materially compromise the safety of any driver, other   members of the Competitor’s staff, other participants in a race, Officials or any spectators or   other members of the public who attend an event    giving instructions to make any changes to a car in breach of any safety requirements or   regulations    giving instructions to tamper with or adversely affect the set-up or performance of the car of   any other Competitor      4 / 5                    \n",
       "FIA Legal Department   Practice Directions - Competitor’s Staff Registration System             17 March 2011     -     -     giving instructions to a driver or otherwise taking any action by which the result or course of a   race may be influenced or affected for the purpose of profiting or assisting someone to profit   through betting on the outcome of a race or any part of a race  or   being convicted of a criminal offence (other than a driving offence) which carries a maximum   prison sentence of five years.        VII.     AMENDMENTS TO THE COMPETITOR’S STAFF REGISTRATION SYSTEM        The FIA will not make any amendments with regard to the Competitor’s Staff Registration System,   either to the International Sporting Code or to the Practice Directions, prior consultation with the   Competitors entered in the FIA Formula One World Championship and adequate opportunity to   provide input on the proposed amendments.   \n",
       "\n",
       "        certainty  \n",
       "0  0.205652177334  \n",
       "1  0.206435859203  "
      ]
     },
     "execution_count": 14,
     "metadata": {},
     "output_type": "execute_result"
    }
   ],
   "source": [
    "%%time\n",
    "\n",
    "f1_query='what are the criteria for disqualification'\n",
    "\n",
    "result_df = get_redis_results(redis_client,f1_query,index_name=INDEX_NAME)\n",
    "result_df.head(2)"
   ]
  },
  {
   "cell_type": "code",
   "execution_count": 15,
   "id": "51340903",
   "metadata": {
    "pycharm": {
     "is_executing": true
    }
   },
   "outputs": [
    {
     "name": "stdout",
     "output_type": "stream",
     "text": [
      "- FIAは競技規則に違反したとき、参加者および顧客についての制裁を課す権限を持つ。\n",
      "- FIAは、コードオブゴースタンディングまたは顧客のスタッフ証明書の登録抹消（現在のFIAフォーミュラワン世界選手権シーズン残存期間中にのみ実行できる）に関する、当該刑事手続き内でそれを要求する。\n",
      "- 監督はイベントの一部とするFIAフォーミュラワン世界選手権内の予約済みエリアへのアクセスを奪う権利を持っている。\n",
      "- 刑事手続き中に顧客が第三者としての参加を許可する場合、FIAはサポートを行って支持します。\n",
      "- 監督はブレーキまたはコードオブゴースタンディングのいかなる違反または恐れのある違反についても、顧客のスタッフ証明書の登録抹消を決定する権限を持たない。\n",
      "\n",
      "顧客の検索クエリに対する回答:\n",
      "- 除\n"
     ]
    }
   ],
   "source": [
    "# 元のクエリと結果を提供し、ユーザーに要約を求めるプロンプトを作成します。\n",
    "summary_prompt = '''この結果を箇条書きにして、顧客が送信した検索クエリに回答する。\n",
    "検索クエリ: SEARCH_QUERY_HERE\n",
    "検索結果: SEARCH_RESULT_HERE\n",
    "要約:\n",
    "'''\n",
    "summary_prepped = summary_prompt.replace('SEARCH_QUERY_HERE',f1_query).replace('SEARCH_RESULT_HERE',result_df['result'][0])\n",
    "summary = openai.Completion.create(engine=COMPLETIONS_MODEL,prompt=summary_prepped,max_tokens=500)\n",
    "# GPT-3から提供されるレスポンス\n",
    "print(summary['choices'][0]['text'])"
   ]
  },
  {
   "cell_type": "markdown",
   "id": "dc12bbcd",
   "metadata": {},
   "source": [
    "### 検索\n",
    "さて、知識を埋め込み、Redisに保存したところで、内部検索アプリケーションを作成することができます。洗練されたものではありませんが、これで仕事は完了です。\n",
    "\n",
    "このアプリがあるディレクトリで、``streamlit run search.py`` を実行します。これでブラウザにStreamlitアプリが表示され、埋め込みデータに対して質問をすることができます。\n",
    "\n",
    "__質問例__:\n",
    "- 2023年のパワーユニットのコスト上限は？\n",
    "- 競争者がアプリケーションに記載すべきこと"
   ]
  },
  {
   "cell_type": "markdown",
   "id": "dd12b31e",
   "metadata": {},
   "source": [
    "## モートを作る\n",
    "\n",
    "Q&Aは便利ですが、ユーザーが最適でない質問をした場合、できる対話の複雑さはかなり制限されます、 このような場合、システムからの支援はなく、より詳しい情報を求めたり、正しい方向に導くための会話をしたりすることはできません。\n",
    "\n",
    "次のステップでは、Chat Completionsというエンドポイントを使ってChatbotを作ってみます：\n",
    "- どのように行動すべきか、ユーザーの目標は何かという指示を与える\n",
    "- 集めるべき必要な情報が与えられる。\n",
    "- その情報が入力されるまで、顧客と何度もやり取りをする。\n",
    "- セマンティック検索と応答の要約を呼び起こすトリガーワードを言う\n",
    "\n",
    "Chat Completionsエンドポイントの詳細と対話方法については、ドキュメント[こちら](https://platform.openai.com/docs/guides/chat)を参照してください。"
   ]
  },
  {
   "cell_type": "markdown",
   "id": "34135886",
   "metadata": {},
   "source": [
    "### フレームワーク\n",
    "\n",
    "このセクションでは、APIを使用して、以前の会話における \"ターン \"のコンテキストを保存するための基本的なフレームワークの概要を説明します。これが確立されたら、私たちの検索エンドポイントを使用するように拡張します。"
   ]
  },
  {
   "cell_type": "code",
   "execution_count": 16,
   "id": "bd11e4dd",
   "metadata": {},
   "outputs": [
    {
     "name": "stdout",
     "output_type": "stream",
     "text": [
      "assistant: 私は、あなたの質問に答えたり、情報を提供したり、タスクを完了したり、アドバイスをしたり、リソースを紹介したりすることで、あなたをサポートすることができます。また、あなたに必要な情報に応じて、専門家や専門家の意見を提供することもできます。\n"
     ]
    }
   ],
   "source": [
    "# AChatCompletionエンドポイントと対話する基本的な例です\n",
    "# \"role\" （システム、ユーザー、アシスタントのいずれか）と \"content\" からなる \"message\" のリストが必要です。\n",
    "\n",
    "question = 'どのように私を助けてくれますか？'\n",
    "\n",
    "\n",
    "completion = openai.ChatCompletion.create(\n",
    "  model=\"gpt-3.5-turbo\",\n",
    "  messages=[\n",
    "    {\"role\": \"user\", \"content\": question}\n",
    "  ]\n",
    ")\n",
    "print(f\"{completion['choices'][0]['message']['role']}: {completion['choices'][0]['message']['content']}\")"
   ]
  },
  {
   "cell_type": "code",
   "execution_count": 17,
   "id": "23e4fc55",
   "metadata": {},
   "outputs": [],
   "source": [
    "from termcolor import colored\n",
    "\n",
    "# チャット用の辞書としてメッセージを作成するための基本クラスです。\n",
    "class Message:\n",
    "    \n",
    "    \n",
    "    def __init__(self,role,content):\n",
    "        \n",
    "        self.role = role\n",
    "        self.content = content\n",
    "        \n",
    "    def message(self):\n",
    "        \n",
    "        return {\"role\": self.role,\"content\": self.content}\n",
    "        \n",
    "# ボットと会話するためのアシスタントクラスです。\n",
    "class Assistant:\n",
    "    \n",
    "    def __init__(self):\n",
    "        self.conversation_history = []\n",
    "\n",
    "    @staticmethod\n",
    "    def _get_assistant_response(prompt):\n",
    "        \n",
    "        try:\n",
    "            completion = openai.ChatCompletion.create(\n",
    "              model=\"gpt-3.5-turbo\",\n",
    "              messages=prompt\n",
    "            )\n",
    "            \n",
    "            response_message = Message(completion['choices'][0]['message']['role'],completion['choices'][0]['message']['content'])\n",
    "            return response_message.message()\n",
    "            \n",
    "        except Exception as e:\n",
    "            \n",
    "            return f'Request failed with exception {e}'\n",
    "\n",
    "    def ask_assistant(self, next_user_prompt, colorize_assistant_replies=True):\n",
    "        [self.conversation_history.append(x) for x in next_user_prompt]\n",
    "        assistant_response = self._get_assistant_response(self.conversation_history)\n",
    "        self.conversation_history.append(assistant_response)\n",
    "        return assistant_response\n",
    "            \n",
    "        \n",
    "    def pretty_print_conversation_history(self, colorize_assistant_replies=True):\n",
    "        for entry in self.conversation_history:\n",
    "            if entry['role'] == 'system':\n",
    "                pass\n",
    "            else:\n",
    "                prefix = entry['role']\n",
    "                content = entry['content']\n",
    "                output = colored(prefix +':\\n' + content, 'green') if colorize_assistant_replies and entry['role'] == 'assistant' else prefix +':\\n' + content\n",
    "                print(output)"
   ]
  },
  {
   "cell_type": "code",
   "execution_count": 24,
   "id": "e18c88b4",
   "metadata": {},
   "outputs": [
    {
     "data": {
      "text/plain": [
       "[{'role': 'system', 'content': ' あなたは革新的なアイデアを持つ、役に立つビジネスアシスタントです'},\n",
       " {'role': 'user', 'content': ' あなたにできることは何ですか '}]"
      ]
     },
     "execution_count": 24,
     "metadata": {},
     "output_type": "execute_result"
    }
   ],
   "source": [
    "# アシスタントクラスを開始する\n",
    "conversation = Assistant()\n",
    "\n",
    "# メッセージを格納するリストを作成し、動作を指示するシステムメッセージと、最初のユーザーの質問の両方を挿入します。\n",
    "messages = []\n",
    "system_message = Message('system',' あなたは革新的なアイデアを持つ、役に立つビジネスアシスタントです')\n",
    "user_message = Message('user',' あなたにできることは何ですか ')\n",
    "messages.append(system_message.message())\n",
    "messages.append(user_message.message())\n",
    "messages"
   ]
  },
  {
   "cell_type": "markdown",
   "id": "0a26bcaa",
   "metadata": {},
   "source": [
    "# こちらの質問に対してチャットボットから回答を返す"
   ]
  },
  {
   "cell_type": "code",
   "execution_count": 27,
   "id": "ddb55d05",
   "metadata": {},
   "outputs": [
    {
     "name": "stdout",
     "output_type": "stream",
     "text": [
      "以下のようなことができます:\n",
      "\n",
      "1. スケジュール管理: スケジュール作成、予定調整、リマインダーの設定など、スケジュール全般の管理を行います。\n",
      "\n",
      "2. データ入力や資料作成: ワードやエクセルなどのソフトを使って、文書作成や表の作成、データの入力、整理、集計、フォーマット設定、振り分けなどをお手伝いします。\n",
      "\n",
      "3. 電子メール管理: メールの整理、フィルタリング、役に立つ情報の抽出や返答の自動化、スパムメールのフィルタリングなど。\n",
      "\n",
      "4. 顧客との連絡、予約調整: 顧客との連絡や調整を行い、スムーズな会議や予約の確保などに役立ちます。\n",
      "\n",
      "5. 研究と市場調査: 情報収集や市場調査を手伝います。業界の最新情報や動向、競合情報などを調べ、社内でのビジネス分析に活用します。\n",
      "\n",
      "6. 社内外のコミュニケーション: スケジュール調整や会議の設定、社員や顧客とのコミュニケーションを円滑に行い、ビジネスの効率化に貢献します。\n",
      "\n",
      "以上の業務を自動化するためのソリューションも提供することができます。\n"
     ]
    }
   ],
   "source": [
    "response_message = conversation.ask_assistant(messages)\n",
    "print(response_message['content'])"
   ]
  },
  {
   "cell_type": "code",
   "execution_count": 28,
   "id": "f364c3b5",
   "metadata": {},
   "outputs": [
    {
     "name": "stdout",
     "output_type": "stream",
     "text": [
      "データ入力や資料作成に関して、以下のようなサポートを提供することができます。\n",
      "\n",
      "1. 文書作成: ワードなどのソフトを使い、報告書、プレゼンテーション、クライアント向けプロポーザル、契約書などの文書作成支援を行います。必要な情報をリサーチし、具体的かつ分かりやすい文章を作成することで、ビジネスの効率化を図ります。\n",
      "\n",
      "2. 表やチャートの作成: エクセルなどのソフトを使い、金額や数量などのデータを元に、表やグラフの作成を支援します。資料を見やすくすることで、効率的な意思決定を支援します。\n",
      "\n",
      "3. データ入力や整理: 取引先や商品などのデータを入力し、整理します。また、データ加工ソフトを使い、集計や分析に必要なフォーマットなどの設定も対応いたします。これにより、重要なデータをタイムリーかつ正確に扱うことができます。\n",
      "\n",
      "4. 社内共有資料の作成: 社内で共有する資料の作成を支援します。社員が情報を共有しながら業務を進めることで、ビジネスの生産性を高めます。\n",
      "\n",
      "これらの業務を効率的かつ正確に行うことができるため、貴社のビジネスプロセスを改善し、ビジネスの効率性を向上させることができます。\n"
     ]
    }
   ],
   "source": [
    "next_question = '選択肢2について詳しく教えてください'\n",
    "\n",
    "# 新しいメッセージリストを作成し、次の質問を挿入します。\n",
    "messages = []\n",
    "user_message = Message('user',next_question)\n",
    "messages.append(user_message.message())\n",
    "response_message = conversation.ask_assistant(messages)\n",
    "print(response_message['content'])"
   ]
  },
  {
   "cell_type": "markdown",
   "id": "9cd88169",
   "metadata": {},
   "source": [
    "# 今までの会話のログをプリントアウトする"
   ]
  },
  {
   "cell_type": "code",
   "execution_count": 29,
   "id": "50796421",
   "metadata": {},
   "outputs": [
    {
     "name": "stdout",
     "output_type": "stream",
     "text": [
      "user:\n",
      " あなたにできることは何ですか \n",
      "\u001B[32massistant:\n",
      "以下のようなことができます:\n",
      "\n",
      "1. スケジュールや予定管理: スケジュールや予定の調整、スケジュールの確認、 相手との自動振り返りの設定など、スケジュールの管理を手伝います。\n",
      "\n",
      "2. データ入力や資料作成: 帳票や表の作成,スプレッドシートファイルの作成,データの入力、整理、集計、フォーマット設定、振り分けなどをお手伝いします。\n",
      "\n",
      "3. 電子メール管理: メールの整理、フィルタリング、役に立つ情報の抽出や返答の自動化、スパムメールのフィルタリングなど。\n",
      "\n",
      "4. 顧客との連絡、予約調整: 顧客との連絡や調整を行い、スムーズな会議や予約の確保などに役立ちます。\n",
      "\n",
      "5. 研究と市場調査: 情報収集や市場調査を手伝います。業界の最新情報や動向、競合情報などを調べ、社内でのビジネス分析に活用します。\n",
      "\n",
      "6. 社内外のコミュニケーション: スケジュール調整や会議の設定、社員や顧客とのコミュニケーションを円滑に行い、ビジネスの効率化に貢献します。\n",
      "\n",
      "これらの業務を自動化するためのソリューションも提供することができます。\u001B[0m\n",
      "user:\n",
      " あなたにできることは何ですか \n",
      "\u001B[32massistant:\n",
      "以下のようなことができます:\n",
      "\n",
      "1. スケジュール管理: スケジュール作成、予定調整、リマインダーの設定など、スケジュール全般の管理を行います。\n",
      "\n",
      "2. データ入力や資料作成: ワードやエクセルなどのソフトを使って、文書作成や表の作成、データの入力、整理、集計、フォーマット設定、振り分けなどをお手伝いします。\n",
      "\n",
      "3. 電子メール管理: メールの整理、フィルタリング、役に立つ情報の抽出や返答の自動化、スパムメールのフィルタリングなど。\n",
      "\n",
      "4. 顧客との連絡、予約調整: 顧客との連絡や調整を行い、スムーズな会議や予約の確保などに役立ちます。\n",
      "\n",
      "5. 研究と市場調査: 情報収集や市場調査を手伝います。業界の最新情報や動向、競合情報などを調べ、社内でのビジネス分析に活用します。\n",
      "\n",
      "6. 社内外のコミュニケーション: スケジュール調整や会議の設定、社員や顧客とのコミュニケーションを円滑に行い、ビジネスの効率化に貢献します。\n",
      "\n",
      "以上の業務を自動化するためのソリューションも提供することができます。\u001B[0m\n",
      "user:\n",
      "選択肢2について詳しく教えてください\n",
      "\u001B[32massistant:\n",
      "データ入力や資料作成に関して、以下のようなサポートを提供することができます。\n",
      "\n",
      "1. 文書作成: ワードなどのソフトを使い、報告書、プレゼンテーション、クライアント向けプロポーザル、契約書などの文書作成支援を行います。必要な情報をリサーチし、具体的かつ分かりやすい文章を作成することで、ビジネスの効率化を図ります。\n",
      "\n",
      "2. 表やチャートの作成: エクセルなどのソフトを使い、金額や数量などのデータを元に、表やグラフの作成を支援します。資料を見やすくすることで、効率的な意思決定を支援します。\n",
      "\n",
      "3. データ入力や整理: 取引先や商品などのデータを入力し、整理します。また、データ加工ソフトを使い、集計や分析に必要なフォーマットなどの設定も対応いたします。これにより、重要なデータをタイムリーかつ正確に扱うことができます。\n",
      "\n",
      "4. 社内共有資料の作成: 社内で共有する資料の作成を支援します。社員が情報を共有しながら業務を進めることで、ビジネスの生産性を高めます。\n",
      "\n",
      "これらの業務を効率的かつ正確に行うことができるため、貴社のビジネスプロセスを改善し、ビジネスの効率性を向上させることができます。\u001B[0m\n"
     ]
    }
   ],
   "source": [
    "conversation.pretty_print_conversation_history()"
   ]
  },
  {
   "cell_type": "markdown",
   "id": "f18d5b54",
   "metadata": {},
   "source": [
    "### 知識検索\n",
    "\n",
    "ここで、チャットボットからストップシーケンスが話されたときに、下流のサービスを呼び出すようにクラスを拡張します。\n",
    "\n",
    "主な変更点は以下の通りです：\n",
    "- システムメッセージはより包括的で、チャットボットが会話を進めるための基準を示しています。\n",
    "- 必要な情報を得たときに使用する明示的なストップシーケンスを追加する\n",
    "- Redisの検索結果を取得する関数 ``_get_search_results`` でクラスを拡張する。"
   ]
  },
  {
   "cell_type": "code",
   "execution_count": 30,
   "id": "8a0cef87",
   "metadata": {},
   "outputs": [],
   "source": [
    "# ユーザーから質問と年を抽出するシステムプロンプトを更新しました。\n",
    "system_prompt = '''\n",
    "あなたは、役に立つフォーミュラ 1 の知識ベースのアシスタントです。各顧客から「質問」と「年」を取得する必要があります。\n",
    "質問はフォーミュラ1に関する質問で、「年」は該当するフォーミュラ1のシーズンの年です。\n",
    "年を提供していない場合は、再度、年を尋ねてください。\n",
    "年がわかったら、「答えを探しています」と言います。\n",
    "\n",
    "例1:\n",
    "\n",
    "ユーザー：パワーユニットのコスト上限を知りたい\n",
    "\n",
    "アシスタント：かしこまりました。何年のものをご希望ですか？\n",
    "\n",
    "ユーザー：2023年でお願いします。\n",
    "\n",
    "アシスタント：答えを探しています。\n",
    "'''\n",
    "\n",
    "# ベクターデータベースの呼び出しをレスポンスに追加する新しいアシスタントクラス\n",
    "class RetrievalAssistant:\n",
    "    \n",
    "    def __init__(self):\n",
    "        self.conversation_history = []  \n",
    "\n",
    "    def _get_assistant_response(self, prompt):\n",
    "        \n",
    "        try:\n",
    "            completion = openai.ChatCompletion.create(\n",
    "              model=CHAT_MODEL,\n",
    "              messages=prompt,\n",
    "              temperature=0.1\n",
    "            )\n",
    "            \n",
    "            response_message = Message(completion['choices'][0]['message']['role'],completion['choices'][0]['message']['content'])\n",
    "            return response_message.message()\n",
    "            \n",
    "        except Exception as e:\n",
    "            \n",
    "            return f'Request failed with exception {e}'\n",
    "    \n",
    "    # Redisの検索結果を取得する関数\n",
    "    @staticmethod\n",
    "    def _get_search_results(prompt):\n",
    "        latest_question = prompt\n",
    "        search_content = get_redis_results(redis_client,latest_question,INDEX_NAME)['result'][0]\n",
    "        return search_content\n",
    "        \n",
    "\n",
    "    def ask_assistant(self, next_user_prompt):\n",
    "        [self.conversation_history.append(x) for x in next_user_prompt]\n",
    "        assistant_response = self._get_assistant_response(self.conversation_history)\n",
    "        \n",
    "        # トリガーシーケンスの \"searching_for_answers \"を使用しない限り、正常に回答する。\n",
    "        if 'searching for answers' in assistant_response['content'].lower():\n",
    "            question_extract = openai.Completion.create(model=COMPLETIONS_MODEL,prompt=f\"この会話からユーザーの最新の質問とその質問の年を抽出する： {self.conversation_history}. 質問と年を記載した文章として抽出する。\")\n",
    "            search_result = self._get_search_results(question_extract['choices'][0]['text'])\n",
    "            \n",
    "            # チャットボットがRedisの結果をどのように使うか、最新のコンテキストを提供するために、ここで追加のシステムプロンプトを挿入します。\n",
    "            # この例では会話履歴に追加していますが、実際の製品では非表示にした方が良い場合もあります。\n",
    "            self.conversation_history.insert(-1,{\"role\": 'system',\"content\": f\"このコンテンツを使ってユーザーの質問に答える: {search_result}. 質問に答えられない場合は、「すみません、この答えはわかりません」と言ってください\"})\n",
    "            #[self.conversation_history.append(x) for x in next_user_prompt]\n",
    "            \n",
    "            assistant_response = self._get_assistant_response(self.conversation_history)\n",
    "            print(next_user_prompt)\n",
    "            print(assistant_response)\n",
    "            self.conversation_history.append(assistant_response)\n",
    "            return assistant_response\n",
    "        else:\n",
    "            self.conversation_history.append(assistant_response)\n",
    "            return assistant_response\n",
    "            \n",
    "        \n",
    "    def pretty_print_conversation_history(self, colorize_assistant_replies=True):\n",
    "        for entry in self.conversation_history:\n",
    "            if entry['role'] == 'system':\n",
    "                pass\n",
    "            else:\n",
    "                prefix = entry['role']\n",
    "                content = entry['content']\n",
    "                output = colored(prefix +':\\n' + content, 'green') if colorize_assistant_replies and entry['role'] == 'assistant' else prefix +':\\n' + content\n",
    "                #prefix = entry['role']\n",
    "                print(output)"
   ]
  },
  {
   "cell_type": "code",
   "execution_count": 31,
   "id": "101d502c",
   "metadata": {},
   "outputs": [
    {
     "data": {
      "text/plain": [
       "{'role': 'assistant',\n",
       " 'content': '競技者の失格は、レース中に行われた違反行為によって決定されます。フォーミュラ1では、レース中に行われた違反行為に対して、レースディレクターが調査を行い、違反が確認された場合は、競技者に対してペナルティを科します。ペナルティには、タイムペナルティ、グリッド降格、失格などがあります。また、競技者がレース中に行った違反行為が特に重大な場合は、レース後に審議が行われ、失格処分が科されることもあります。'}"
      ]
     },
     "execution_count": 31,
     "metadata": {},
     "output_type": "execute_result"
    }
   ],
   "source": [
    "conversation = RetrievalAssistant()\n",
    "messages = []\n",
    "system_message = Message('system',system_prompt)\n",
    "user_message = Message('user','競技者の失格はどのようにして決まるのか')\n",
    "messages.append(system_message.message())\n",
    "messages.append(user_message.message())\n",
    "response_message = conversation.ask_assistant(messages)\n",
    "response_message"
   ]
  },
  {
   "cell_type": "code",
   "execution_count": 32,
   "id": "702eb4fc",
   "metadata": {},
   "outputs": [
    {
     "name": "stdout",
     "output_type": "stream",
     "text": [
      "{'role': 'assistant', 'content': '2023年のフォーミュラ1シーズンにおいて、パワーユニットのコスト上限はまだ発表されていません。フォーミュラ1は、2023年から新しいエンジン規定を導入する予定であり、現在、その詳細がまだ発表されていません。エンジン規定が発表され次第、パワーユニットのコスト上限に関する情報も明らかになるでしょう。'}\n"
     ]
    }
   ],
   "source": [
    "messages = []\n",
    "user_message = Message('user', '2023 年のものをお願いします')\n",
    "messages.append(user_message.message())\n",
    "response_message = conversation.ask_assistant(messages)\n",
    "print(response_message)"
   ]
  },
  {
   "cell_type": "code",
   "execution_count": 33,
   "id": "b17ef8d3",
   "metadata": {},
   "outputs": [
    {
     "name": "stdout",
     "output_type": "stream",
     "text": [
      "user:\n",
      "競技者の失格はどのようにして決まるのか\n",
      "\u001B[32massistant:\n",
      "競技者の失格は、レース中に行われた違反行為によって決定されます。フォーミュラ1では、レース中に行われた違反行為に対して、レースディレクターが調査を行い、違反が確認された場合は、競技者に対してペナルティを科します。ペナルティには、タイムペナルティ、グリッド降格、失格などがあります。また、競技者がレース中に行った違反行為が特に重大な場合は、レース後に審議が行われ、失格処分が科されることもあります。\u001B[0m\n",
      "user:\n",
      "2023 年のものをお願いします\n",
      "\u001B[32massistant:\n",
      "2023年のフォーミュラ1シーズンにおいて、パワーユニットのコスト上限はまだ発表されていません。フォーミュラ1は、2023年から新しいエンジン規定を導入する予定であり、現在、その詳細がまだ発表されていません。エンジン規定が発表され次第、パワーユニットのコスト上限に関する情報も明らかになるでしょう。\u001B[0m\n"
     ]
    }
   ],
   "source": [
    "conversation.pretty_print_conversation_history()"
   ]
  },
  {
   "cell_type": "markdown",
   "id": "a9f9ef37",
   "metadata": {},
   "source": [
    "### チャットボット\n",
    "\n",
    "では、実際に（基本的な）チャットボットを使って、これらのことを実践してみましょう。\n",
    "\n",
    "このアプリがあるディレクトリで、``streamlit run chat.py`` を実行します。すると、ブラウザ上でStreamlitアプリが開き、埋め込みデータに対して質問することができます。\n",
    "\n",
    "__質問の例__:\n",
    "- 2023年、パワーユニットのコスト上限は？\n",
    "- 競争者がアプリケーションに記載すべきことは何か\n",
    "- 競技者が失格になるのはなぜか。"
   ]
  },
  {
   "cell_type": "markdown",
   "id": "b8e6c4ca",
   "metadata": {},
   "source": [
    "### まとめ\n",
    "\n",
    "このノートブックであなたは:\n",
    "- 知識ベースを埋め込むことで、製品の土台を作る。\n",
    "- 基本的なユースケースに対応したQ&Aアプリケーションの作成\n",
    "- これを拡張して対話型チャットボットにする\n",
    "\n",
    "これらは、APIを使用したQ&Aやチャットアプリケーションの基本的な構成要素です。これらは、あなたの出発点であり、あなたがこれらを使って何を作るかを楽しみにしています！"
   ]
  }
 ],
 "metadata": {
  "kernelspec": {
   "display_name": "Python 3 (ipykernel)",
   "language": "python",
   "name": "python3"
  },
  "language_info": {
   "codemirror_mode": {
    "name": "ipython",
    "version": 3
   },
   "file_extension": ".py",
   "mimetype": "text/x-python",
   "name": "python",
   "nbconvert_exporter": "python",
   "pygments_lexer": "ipython3",
   "version": "3.11.3"
  }
 },
 "nbformat": 4,
 "nbformat_minor": 5
}
